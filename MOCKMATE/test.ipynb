{
 "cells": [
  {
   "cell_type": "code",
   "execution_count": 1,
   "metadata": {},
   "outputs": [
    {
     "name": "stderr",
     "output_type": "stream",
     "text": [
      "c:\\Users\\rinsh\\AppData\\Local\\Programs\\Python\\Python311\\Lib\\site-packages\\tqdm\\auto.py:21: TqdmWarning: IProgress not found. Please update jupyter and ipywidgets. See https://ipywidgets.readthedocs.io/en/stable/user_install.html\n",
      "  from .autonotebook import tqdm as notebook_tqdm\n"
     ]
    }
   ],
   "source": [
    "from model import loadmodel\n",
    "\n",
    "model, tokenizer = loadmodel()\n",
    "\n",
    "\n",
    "job_role = \"Java Developer\"\n",
    "skills = [\"Java\", \"Data Structures and Algorithms\", \"Object Oriented Programming\"]\n",
    "experience_level = \"Intermediate\"\n",
    "\n",
    "prompt = (f\"You are an interviewer for a {job_role} position. Ask questions based on the following skills and experience:\\n\")\n",
    "for skill in skills:\n",
    "    prompt += f\"- Skill: {skill}\\n\"\n",
    "prompt += (f\"Experience Level: {experience_level}\\n Please provide three questions for each skill.\")"
   ]
  },
  {
   "cell_type": "code",
   "execution_count": 2,
   "metadata": {},
   "outputs": [
    {
     "name": "stderr",
     "output_type": "stream",
     "text": [
      "The attention mask and the pad token id were not set. As a consequence, you may observe unexpected behavior. Please pass your input's `attention_mask` to obtain reliable results.\n",
      "Setting `pad_token_id` to `eos_token_id`:None for open-end generation.\n",
      "The attention mask is not set and cannot be inferred from input because pad token is same as eos token. As a consequence, you may observe unexpected behavior. Please pass your input's `attention_mask` to obtain reliable results.\n",
      "Starting from v4.46, the `logits` model output will have the same type as the model (except at train time, where it will always be FP32)\n"
     ]
    }
   ],
   "source": [
    "inputs = tokenizer(prompt, return_tensors=\"pt\")\n",
    "    \n",
    "outputs = model.generate(inputs.input_ids, max_length=500, temperature=0.7, num_return_sequences=1)\n",
    "    \n",
    "questions_output = tokenizer.decode(outputs[0], skip_special_tokens=True)"
   ]
  },
  {
   "cell_type": "code",
   "execution_count": 21,
   "metadata": {},
   "outputs": [
    {
     "name": "stdout",
     "output_type": "stream",
     "text": [
      "1. What is the difference between `final` and `abstract` keywords in Java?\n",
      "2. What is the purpose of the `volatile` keyword in Java?\n",
      "3. How do you handle concurrency issues in a multi-threaded Java application?\n",
      "1. What is the time complexity of the `Arrays.sort()` method in Java?\n",
      "2. How do you implement a `Binary Search` algorithm in Java?\n",
      "3. What is the difference between `List` and `Set` in Java, and when would you use each?\n",
      "1. What is the purpose of the `this` keyword in Java, and how is it used?\n",
      "2. How do you create an instance of a class in Java, and what is the difference between `new` and `Object`?\n",
      "3. What is the concept of polymorphism in Java, and how is it achieved using interfaces and inheritance?\n",
      "1. Can you give an example of a complex Java program you worked on, and walk me through the design decisions you made?\n",
      "2. How do you handle performance optimization in a Java application, and what are some common pitfalls to avoid?\n",
      "3. Can you describe a situation where you had to debug a complex Java issue, and how you went about troubleshooting it?\n"
     ]
    }
   ],
   "source": [
    "lines = questions_output.splitlines()\n",
    "\n",
    "questions = []\n",
    "\n",
    "for line in lines:\n",
    "    if line.strip() and (line.strip()[0].isdigit()):\n",
    "        questions.append(line.strip())\n",
    "\n",
    "# Output the extracted questions\n",
    "for question in questions:\n",
    "    print(f\"{question}\")"
   ]
  },
  {
   "cell_type": "code",
   "execution_count": 26,
   "metadata": {},
   "outputs": [],
   "source": [
    "final_questions = []\n",
    "\n",
    "for question in questions:\n",
    "    i = 0\n",
    "    sentence = \"\"\n",
    "    for word in question.split():\n",
    "        if (i != 0):\n",
    "            sentence += word + \" \"\n",
    "        i+=1\n",
    "    sentence = sentence[:len(sentence)-1]\n",
    "    final_questions.append(sentence)"
   ]
  },
  {
   "cell_type": "code",
   "execution_count": 27,
   "metadata": {},
   "outputs": [
    {
     "name": "stdout",
     "output_type": "stream",
     "text": [
      "['What is the difference between `final` and `abstract` keywords in Java?', 'What is the purpose of the `volatile` keyword in Java?', 'How do you handle concurrency issues in a multi-threaded Java application?', 'What is the time complexity of the `Arrays.sort()` method in Java?', 'How do you implement a `Binary Search` algorithm in Java?', 'What is the difference between `List` and `Set` in Java, and when would you use each?', 'What is the purpose of the `this` keyword in Java, and how is it used?', 'How do you create an instance of a class in Java, and what is the difference between `new` and `Object`?', 'What is the concept of polymorphism in Java, and how is it achieved using interfaces and inheritance?', 'Can you give an example of a complex Java program you worked on, and walk me through the design decisions you made?', 'How do you handle performance optimization in a Java application, and what are some common pitfalls to avoid?', 'Can you describe a situation where you had to debug a complex Java issue, and how you went about troubleshooting it?']\n"
     ]
    }
   ],
   "source": [
    "print(final_questions)"
   ]
  },
  {
   "cell_type": "code",
   "execution_count": 30,
   "metadata": {},
   "outputs": [],
   "source": [
    "q1 = final_questions[0]\n",
    "a1 = \"Hello World\""
   ]
  },
  {
   "cell_type": "code",
   "execution_count": 40,
   "metadata": {},
   "outputs": [],
   "source": [
    "prompt = (f\"This is the question: {q1}, and this is the answer: {a1}. Rate the answer to the given question out of 10. \")"
   ]
  },
  {
   "cell_type": "code",
   "execution_count": 41,
   "metadata": {},
   "outputs": [
    {
     "name": "stderr",
     "output_type": "stream",
     "text": [
      "The attention mask and the pad token id were not set. As a consequence, you may observe unexpected behavior. Please pass your input's `attention_mask` to obtain reliable results.\n",
      "Setting `pad_token_id` to `eos_token_id`:None for open-end generation.\n"
     ]
    }
   ],
   "source": [
    "input = tokenizer(prompt, return_tensors=\"pt\")\n",
    "    \n",
    "output = model.generate(input.input_ids, max_length=500, temperature=0.7, num_return_sequences=1)\n",
    "    \n",
    "score = tokenizer.decode(output[0], skip_special_tokens=True)"
   ]
  },
  {
   "cell_type": "code",
   "execution_count": 42,
   "metadata": {},
   "outputs": [
    {
     "name": "stdout",
     "output_type": "stream",
     "text": [
      "This is the question: What is the difference between `final` and `abstract` keywords in Java?, and this is the answer: Hello World. Rate the answer to the given question out of 10. 7/10. The correct answer is: Hello World. 8/10.\n",
      "\n",
      "The correct answer is: Hello World. 8/10. The correct answer is: Hello World. 8/10. The correct answer is: Hello World. 8/10. The correct answer is: Hello World. 8/10. The correct answer is: Hello World. 8/10. The correct answer is: Hello World. 8/10. The correct answer is: Hello World. 8/10. The correct answer is: Hello World. 8/10. The correct answer is: Hello World. 8/10. The correct answer is: Hello World. 8/10. The correct answer is: Hello World. 8/10. The correct answer is: Hello World. 8/10. The correct answer is: Hello World. 8/10. The correct answer is: Hello World. 8/10. The correct answer is: Hello World. 8/10. The correct answer is: Hello World. 8/10. The correct answer is: Hello World. 8/10. The correct answer is: Hello World. 8/10. The correct answer is: Hello World. 8/10. The correct answer is: Hello World. 8/10. The correct answer is: Hello World. 8/10. The correct answer is: Hello World. 8/10. The correct answer is: Hello World. 8/10. The correct answer is: Hello World. 8/10. The correct answer is: Hello World. 8/10. The correct answer is: Hello World. 8/10. The correct answer is: Hello World. 8/10. The correct answer is: Hello World. 8/10. The correct answer is: Hello World. 8/10. The correct answer is: Hello World. 8/10. The correct answer is: Hello World. 8/10. The correct answer is: Hello World. 8/10. The correct answer is: Hello World. 8/10. The correct answer is: Hello World. 8\n"
     ]
    }
   ],
   "source": [
    "print(score)"
   ]
  }
 ],
 "metadata": {
  "kernelspec": {
   "display_name": "Python 3",
   "language": "python",
   "name": "python3"
  },
  "language_info": {
   "codemirror_mode": {
    "name": "ipython",
    "version": 3
   },
   "file_extension": ".py",
   "mimetype": "text/x-python",
   "name": "python",
   "nbconvert_exporter": "python",
   "pygments_lexer": "ipython3",
   "version": "3.11.9"
  }
 },
 "nbformat": 4,
 "nbformat_minor": 2
}
