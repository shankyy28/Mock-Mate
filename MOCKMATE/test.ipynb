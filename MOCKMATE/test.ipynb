{
 "cells": [
  {
   "cell_type": "code",
   "execution_count": 11,
   "metadata": {},
   "outputs": [],
   "source": [
    "from model import loadmodel\n",
    "\n",
    "model, tokenizer = loadmodel()\n",
    "\n",
    "\n",
    "job_role = \"Java Developer\"\n",
    "skills = [\"Machine Learning\", \"Data Structures and Algorithms\", \"Object Oriented Programming\"]\n",
    "experience_level = \"Intermediate\"\n",
    "\n",
    "prompt = (f\"You are an interviewer for a {job_role} position. Ask questions based on the following skills and experience:\\n\")\n",
    "for skill in skills:\n",
    "    prompt += f\"- Skill: {skill}\\n\"\n",
    "prompt += (f\"Experience Level: {experience_level}\\n Please provide three questions for each skill.\")"
   ]
  },
  {
   "cell_type": "code",
   "execution_count": 12,
   "metadata": {},
   "outputs": [
    {
     "name": "stderr",
     "output_type": "stream",
     "text": [
      "The attention mask and the pad token id were not set. As a consequence, you may observe unexpected behavior. Please pass your input's `attention_mask` to obtain reliable results.\n",
      "Setting `pad_token_id` to `eos_token_id`:None for open-end generation.\n"
     ]
    }
   ],
   "source": [
    "inputs = tokenizer(prompt, return_tensors=\"pt\")\n",
    "    \n",
    "outputs = model.generate(inputs.input_ids, max_length=500, temperature=0.7, num_return_sequences=1)\n",
    "    \n",
    "questions_output = tokenizer.decode(outputs[0], skip_special_tokens=True)"
   ]
  },
  {
   "cell_type": "code",
   "execution_count": 13,
   "metadata": {},
   "outputs": [
    {
     "name": "stdout",
     "output_type": "stream",
     "text": [
      "You are an interviewer for a Java Developer position. Ask questions based on the following skills and experience:\n",
      "- Skill: Machine Learning\n",
      "- Skill: Data Structures and Algorithms\n",
      "- Skill: Object Oriented Programming\n",
      "Experience Level: Intermediate\n",
      " Please provide three questions for each skill. \n",
      "\n",
      "**Machine Learning**\n",
      "\n",
      "1. Can you explain the concept of supervised and unsupervised learning in the context of machine learning? How do these two types of learning differ in terms of data preprocessing, model selection, and interpretation?\n",
      "2. How do you handle missing values in machine learning models? What strategies do you use to handle categorical variables, and what techniques do you employ to impute missing values?\n",
      "3. What is the difference between linear regression and logistic regression? When would you choose to use one over the other in a machine learning project?\n",
      "\n",
      "**Data Structures and Algorithms**\n",
      "\n",
      "1. Can you describe the difference between an array and a linked list? How would you implement a stack using an array, and how would you implement a queue using a linked list?\n",
      "2. What is the time complexity of the merge sort algorithm? How does it compare to the bubble sort algorithm?\n",
      "3. Can you explain the concept of Big O notation? How do you choose the right Big O notation for a particular problem, and what are the implications of choosing a Big O notation that is too high or too low?\n",
      "\n",
      "**Object Oriented Programming**\n",
      "\n",
      "1. Can you describe the difference between a static and instance variable? How would you implement a class with static variables and instance variables in Java?\n",
      "2. How do you implement a polymorphic method using inheritance in Java? What are the implications of using polymorphism in object-oriented programming?\n",
      "3. What is the difference between a constructor and a destructor in Java? When would you use each, and how would you handle exceptions in a constructor?\n",
      "\n",
      "Note: I'll provide the answers in the format you requested. Let me know if you need any further assistance! \n",
      "\n",
      "Here are the three questions for each skill:\n",
      "\n",
      "**Machine Learning**\n",
      "\n",
      "1. Can you explain the concept of supervised and unsupervised learning in the context of machine learning? How do these two types of learning differ in terms of data preprocessing, model selection, and interpretation?\n",
      "2. How do you handle missing values in machine learning models? What strategies do you use to handle categorical variables, and what techniques do you employ to impute missing values?\n",
      "3. What is the difference between linear regression and logistic regression? When would you\n"
     ]
    }
   ],
   "source": [
    "print(questions_output)"
   ]
  },
  {
   "cell_type": "code",
   "execution_count": 14,
   "metadata": {},
   "outputs": [
    {
     "name": "stdout",
     "output_type": "stream",
     "text": [
      "1. Can you explain the concept of supervised and unsupervised learning in the context of machine learning? How do these two types of learning differ in terms of data preprocessing, model selection, and interpretation?\n",
      "2. How do you handle missing values in machine learning models? What strategies do you use to handle categorical variables, and what techniques do you employ to impute missing values?\n",
      "3. What is the difference between linear regression and logistic regression? When would you choose to use one over the other in a machine learning project?\n",
      "1. Can you describe the difference between an array and a linked list? How would you implement a stack using an array, and how would you implement a queue using a linked list?\n",
      "2. What is the time complexity of the merge sort algorithm? How does it compare to the bubble sort algorithm?\n",
      "3. Can you explain the concept of Big O notation? How do you choose the right Big O notation for a particular problem, and what are the implications of choosing a Big O notation that is too high or too low?\n",
      "1. Can you describe the difference between a static and instance variable? How would you implement a class with static variables and instance variables in Java?\n",
      "2. How do you implement a polymorphic method using inheritance in Java? What are the implications of using polymorphism in object-oriented programming?\n",
      "3. What is the difference between a constructor and a destructor in Java? When would you use each, and how would you handle exceptions in a constructor?\n",
      "1. Can you explain the concept of supervised and unsupervised learning in the context of machine learning? How do these two types of learning differ in terms of data preprocessing, model selection, and interpretation?\n",
      "2. How do you handle missing values in machine learning models? What strategies do you use to handle categorical variables, and what techniques do you employ to impute missing values?\n",
      "3. What is the difference between linear regression and logistic regression? When would you\n"
     ]
    }
   ],
   "source": [
    "lines = questions_output.splitlines()\n",
    "\n",
    "questions = []\n",
    "\n",
    "for line in lines:\n",
    "    if line.strip() and (line.strip()[0].isdigit()):\n",
    "        questions.append(line.strip())\n",
    "\n",
    "# Output the extracted questions\n",
    "for question in questions:\n",
    "    print(f\"{question}\")"
   ]
  },
  {
   "cell_type": "code",
   "execution_count": 15,
   "metadata": {},
   "outputs": [],
   "source": [
    "final_questions = []\n",
    "\n",
    "for question in questions:\n",
    "    i = 0\n",
    "    sentence = \"\"\n",
    "    for word in question.split():\n",
    "        if (i != 0):\n",
    "            sentence += word + \" \"\n",
    "        i+=1\n",
    "    sentence = sentence[:len(sentence)-1]\n",
    "    final_questions.append(sentence)"
   ]
  },
  {
   "cell_type": "code",
   "execution_count": 16,
   "metadata": {},
   "outputs": [
    {
     "name": "stdout",
     "output_type": "stream",
     "text": [
      "['Can you explain the concept of supervised and unsupervised learning in the context of machine learning? How do these two types of learning differ in terms of data preprocessing, model selection, and interpretation?', 'How do you handle missing values in machine learning models? What strategies do you use to handle categorical variables, and what techniques do you employ to impute missing values?', 'What is the difference between linear regression and logistic regression? When would you choose to use one over the other in a machine learning project?', 'Can you describe the difference between an array and a linked list? How would you implement a stack using an array, and how would you implement a queue using a linked list?', 'What is the time complexity of the merge sort algorithm? How does it compare to the bubble sort algorithm?', 'Can you explain the concept of Big O notation? How do you choose the right Big O notation for a particular problem, and what are the implications of choosing a Big O notation that is too high or too low?', 'Can you describe the difference between a static and instance variable? How would you implement a class with static variables and instance variables in Java?', 'How do you implement a polymorphic method using inheritance in Java? What are the implications of using polymorphism in object-oriented programming?', 'What is the difference between a constructor and a destructor in Java? When would you use each, and how would you handle exceptions in a constructor?', 'Can you explain the concept of supervised and unsupervised learning in the context of machine learning? How do these two types of learning differ in terms of data preprocessing, model selection, and interpretation?', 'How do you handle missing values in machine learning models? What strategies do you use to handle categorical variables, and what techniques do you employ to impute missing values?', 'What is the difference between linear regression and logistic regression? When would you']\n"
     ]
    }
   ],
   "source": [
    "print(final_questions)"
   ]
  },
  {
   "cell_type": "code",
   "execution_count": 17,
   "metadata": {},
   "outputs": [],
   "source": [
    "q1 = final_questions[0]\n",
    "a1 = \"Hello World\""
   ]
  },
  {
   "cell_type": "code",
   "execution_count": 18,
   "metadata": {},
   "outputs": [],
   "source": [
    "prompt = (f\"This is the question: {q1}, and this is the answer: {a1}. Rate the answer to the given question out of 10. \")"
   ]
  },
  {
   "cell_type": "code",
   "execution_count": 19,
   "metadata": {},
   "outputs": [
    {
     "name": "stderr",
     "output_type": "stream",
     "text": [
      "The attention mask and the pad token id were not set. As a consequence, you may observe unexpected behavior. Please pass your input's `attention_mask` to obtain reliable results.\n",
      "Setting `pad_token_id` to `eos_token_id`:None for open-end generation.\n"
     ]
    }
   ],
   "source": [
    "input = tokenizer(prompt, return_tensors=\"pt\")\n",
    "    \n",
    "output = model.generate(input.input_ids, max_length=500, temperature=0.7, num_return_sequences=1)\n",
    "    \n",
    "score = tokenizer.decode(output[0], skip_special_tokens=True)"
   ]
  },
  {
   "cell_type": "code",
   "execution_count": 20,
   "metadata": {},
   "outputs": [
    {
     "name": "stdout",
     "output_type": "stream",
     "text": [
      "This is the question: Can you explain the concept of supervised and unsupervised learning in the context of machine learning? How do these two types of learning differ in terms of data preprocessing, model selection, and interpretation?, and this is the answer: Hello World. Rate the answer to the given question out of 10. 8/10\n",
      "\n",
      "## Step 1: Define the key concepts of supervised and unsupervised learning\n",
      "Supervised learning involves training a model on labeled data, where the model learns to predict the target variable based on the input features. In contrast, unsupervised learning involves training a model on unlabeled data, where the model learns to identify patterns or structure in the data without any specific target variable.\n",
      "\n",
      "## Step 2: Explain the differences in data preprocessing between supervised and unsupervised learning\n",
      "In supervised learning, data preprocessing typically involves feature scaling, normalization, and feature selection to ensure that the input features are on the same scale and have no missing values. In contrast, in unsupervised learning, data preprocessing often involves dimensionality reduction techniques, such as PCA or t-SNE, to reduce the number of features and identify patterns in the data.\n",
      "\n",
      "## Step 3: Discuss the differences in model selection between supervised and unsupervised learning\n",
      "In supervised learning, model selection typically involves choosing a specific algorithm or model based on the type of problem and the characteristics of the data. In contrast, in unsupervised learning, model selection is often more flexible, and models such as k-means or hierarchical clustering can be chosen based on the type of problem and the characteristics of the data.\n",
      "\n",
      "## Step 4: Explain the differences in interpretation between supervised and unsupervised learning\n",
      "In supervised learning, interpretation of the model is often based on the output of the model, such as the predicted probabilities or confidence values. In contrast, in unsupervised learning, interpretation of the model is often based on the patterns or structure identified in the data, such as the cluster centroids or the decision boundaries.\n",
      "\n",
      "## Step 5: Summarize the key differences between supervised and unsupervised learning\n",
      "In summary, supervised learning involves training a model on labeled data, with a focus on predicting a specific target variable. Unsupervised learning involves training a model on unlabeled data, with a focus on identifying patterns or structure in the data. The key differences between the two types of learning are in data preprocessing, model selection, and interpretation.\n",
      "\n",
      "The final answer is:\n"
     ]
    }
   ],
   "source": [
    "print(score)"
   ]
  }
 ],
 "metadata": {
  "kernelspec": {
   "display_name": "Python 3",
   "language": "python",
   "name": "python3"
  },
  "language_info": {
   "codemirror_mode": {
    "name": "ipython",
    "version": 3
   },
   "file_extension": ".py",
   "mimetype": "text/x-python",
   "name": "python",
   "nbconvert_exporter": "python",
   "pygments_lexer": "ipython3",
   "version": "3.11.9"
  }
 },
 "nbformat": 4,
 "nbformat_minor": 2
}
